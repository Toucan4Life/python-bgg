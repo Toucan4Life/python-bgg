{
 "cells": [
  {
   "cell_type": "code",
   "execution_count": null,
   "metadata": {},
   "outputs": [],
   "source": [
    "import pandas as pd\n",
    "import numpy as np\n",
    "\n",
    "# Read the cleaned file into a DataFrame\n",
    "df = pd.read_csv('../data/bgg_rating_threshold.csv', sep=';', engine='c')\n",
    "\n",
    "# Convert the 'bgg_user_rating' column to numeric\n",
    "df['bgg_user_rating'] = ((pd.to_numeric(df['bgg_user_rating'], errors='coerce'))*10).astype(np.uint8)\n",
    "\n",
    "print(\"done\")"
   ]
  },
  {
   "cell_type": "code",
   "execution_count": null,
   "metadata": {},
   "outputs": [],
   "source": [
    "from scipy.sparse import coo_matrix\n",
    "from sklearn.decomposition import TruncatedSVD\n",
    "data = list(df.itertuples(index=False, name=None))\n",
    "# Alternatively, you can use df['item'], df['user'], and df['review_score'] directly.\n",
    "\n",
    "# Create unique mappings for items and users\n",
    "unique_items = sorted(df['bgg_id'].unique())\n",
    "unique_users = sorted(df['bgg_user_name'].unique())\n",
    "\n",
    "item_to_index = {item: idx for idx, item in enumerate(unique_items)}\n",
    "user_to_index = {user: idx for idx, user in enumerate(unique_users)}\n",
    "\n",
    "# Prepare row indices, column indices, and data (review scores) using the DataFrame columns\n",
    "rows = df['bgg_id'].map(item_to_index)\n",
    "cols = df['bgg_user_name'].map(user_to_index)\n",
    "scores = df['bgg_user_rating']\n",
    "\n",
    "# Create a sparse matrix using the COO format:\n",
    "sparse_matrix = coo_matrix(\n",
    "    (scores, (rows, cols)),\n",
    "    shape=(len(unique_items), len(unique_users))\n",
    ")\n",
    "\n",
    "# Optionally convert to CSR format for more efficient arithmetic operations\n",
    "sparse_matrix = sparse_matrix.tocsr()\n",
    "print (\"Sparse matrix created with shape:\", sparse_matrix.shape)"
   ]
  },
  {
   "cell_type": "code",
   "execution_count": 8,
   "metadata": {},
   "outputs": [
    {
     "ename": "",
     "evalue": "",
     "output_type": "error",
     "traceback": [
      "\u001b[1;31mThe Kernel crashed while executing code in the current cell or a previous cell. \n",
      "\u001b[1;31mPlease review the code in the cell(s) to identify a possible cause of the failure. \n",
      "\u001b[1;31mClick <a href='https://aka.ms/vscodeJupyterKernelCrash'>here</a> for more info. \n",
      "\u001b[1;31mView Jupyter <a href='command:jupyter.viewOutput'>log</a> for further details."
     ]
    }
   ],
   "source": [
    "# Define the number of components for SVD (adjust based on your application)\n",
    "n_components = 3000  # This is a hyperparameter; change it to suit your needs\n",
    "\n",
    "# Initialize and fit TruncatedSVD\n",
    "svd = TruncatedSVD(n_components=n_components, random_state=42)\n",
    "svd.fit(sparse_matrix)"
   ]
  }
 ],
 "metadata": {
  "kernelspec": {
   "display_name": "Python 3",
   "language": "python",
   "name": "python3"
  },
  "language_info": {
   "codemirror_mode": {
    "name": "ipython",
    "version": 3
   },
   "file_extension": ".py",
   "mimetype": "text/x-python",
   "name": "python",
   "nbconvert_exporter": "python",
   "pygments_lexer": "ipython3",
   "version": "3.12.1"
  }
 },
 "nbformat": 4,
 "nbformat_minor": 2
}
