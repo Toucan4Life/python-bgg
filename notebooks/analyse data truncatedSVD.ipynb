{
 "cells": [
  {
   "cell_type": "code",
   "execution_count": 2,
   "metadata": {},
   "outputs": [
    {
     "name": "stdout",
     "output_type": "stream",
     "text": [
      "done\n"
     ]
    }
   ],
   "source": [
    "import pandas as pd\n",
    "\n",
    "\n",
    "# Read the cleaned file into a DataFrame\n",
    "df_cleaned = pd.read_csv('../data/bgg_rating_threshold.csv', sep=';', engine='c')\n",
    "\n",
    "# Convert the 'bgg_user_rating' column to numeric\n",
    "df_cleaned['bgg_user_rating'] = pd.to_numeric(df_cleaned['bgg_user_rating'], errors='coerce')\n",
    "\n",
    "print(\"done\")"
   ]
  },
  {
   "cell_type": "code",
   "execution_count": 3,
   "metadata": {},
   "outputs": [
    {
     "name": "stdout",
     "output_type": "stream",
     "text": [
      "(11139, 1580)\n"
     ]
    }
   ],
   "source": [
    "import numpy as np\n",
    "import scipy\n",
    "# Create the matrix with games as rows and users as columns.\n",
    "df_cleaned['bgg_user_rating'] = (df_cleaned['bgg_user_rating']*10).astype(np.uint8)\n",
    "#user_game_matrix = df_cleaned.head(1000000).pivot(index='bgg_id', columns='bgg_user_name', values='bgg_user_rating')\n",
    "user_game_matrix = df_cleaned.head(100000).set_index(['bgg_id', 'bgg_user_name'])['bgg_user_rating'].unstack('bgg_user_name',0)\n",
    "sparse = scipy.sparse.csr_matrix(user_game_matrix.values)\n",
    "# Check the shape and preview the matrix.\n",
    "print(sparse.shape)"
   ]
  },
  {
   "cell_type": "code",
   "execution_count": 9,
   "metadata": {},
   "outputs": [],
   "source": [
    "from sklearn.decomposition import NMF, TruncatedSVD\n",
    "\n",
    "model = TruncatedSVD(n_components=1580)\n",
    "\n",
    "\n",
    "W = model.fit_transform(user_game_matrix)"
   ]
  },
  {
   "cell_type": "code",
   "execution_count": 7,
   "metadata": {},
   "outputs": [
    {
     "name": "stdout",
     "output_type": "stream",
     "text": [
      "Relative reconstruction error (TruncatedSVD): 2.6755954945383073e-15\n"
     ]
    }
   ],
   "source": [
    "# Convert the polars DataFrame to a NumPy array for numerical computations.\n",
    "matrix_np = user_game_matrix.to_numpy()\n",
    "\n",
    "# Reconstruct the approximation from the TruncatedSVD factors.\n",
    "reconstructed = W @ model.components_\n",
    "\n",
    "# Compute the Frobenius norm of the difference between the original matrix and the reconstruction.\n",
    "error = np.linalg.norm(matrix_np - reconstructed, ord='fro')\n",
    "\n",
    "# Compute the Frobenius norm of the original matrix.\n",
    "norm_orig = np.linalg.norm(matrix_np, ord='fro')\n",
    "\n",
    "# Calculate the relative reconstruction error.\n",
    "relative_error = error / norm_orig\n",
    "\n",
    "print(\"Relative reconstruction error (TruncatedSVD):\", relative_error)"
   ]
  },
  {
   "cell_type": "code",
   "execution_count": null,
   "metadata": {},
   "outputs": [],
   "source": [
    "np.allclose(sparse.toarray(), reconstructed)"
   ]
  }
 ],
 "metadata": {
  "kernelspec": {
   "display_name": "Python 3",
   "language": "python",
   "name": "python3"
  },
  "language_info": {
   "codemirror_mode": {
    "name": "ipython",
    "version": 3
   },
   "file_extension": ".py",
   "mimetype": "text/x-python",
   "name": "python",
   "nbconvert_exporter": "python",
   "pygments_lexer": "ipython3",
   "version": "3.12.1"
  }
 },
 "nbformat": 4,
 "nbformat_minor": 2
}
