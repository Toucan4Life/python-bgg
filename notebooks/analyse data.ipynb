{
 "cells": [
  {
   "cell_type": "code",
   "execution_count": 1,
   "metadata": {},
   "outputs": [
    {
     "name": "stdout",
     "output_type": "stream",
     "text": [
      "done\n"
     ]
    }
   ],
   "source": [
    "import pandas as pd\n",
    "\n",
    "\n",
    "# Read the cleaned file into a DataFrame\n",
    "df_cleaned = pd.read_csv('../data/bgg_rating_threshold.csv', sep=';', engine='c')\n",
    "\n",
    "# Convert the 'bgg_user_rating' column to numeric\n",
    "df_cleaned['bgg_user_rating'] = pd.to_numeric(df_cleaned['bgg_user_rating'], errors='coerce')\n",
    "\n",
    "print(\"done\")"
   ]
  },
  {
   "cell_type": "code",
   "execution_count": 4,
   "metadata": {},
   "outputs": [
    {
     "name": "stderr",
     "output_type": "stream",
     "text": [
      "/tmp/ipykernel_59082/2928317859.py:5: PerformanceWarning: The following operation may generate 2499138456 cells in the resulting pandas object.\n",
      "  user_game_matrix = df_cleaned.set_index(['bgg_id', 'bgg_user_name'])['bgg_user_rating'].unstack('bgg_user_name',0)\n"
     ]
    },
    {
     "name": "stdout",
     "output_type": "stream",
     "text": [
      "(6126, 407956)\n"
     ]
    }
   ],
   "source": [
    "import numpy as np\n",
    "# Create the matrix with games as rows and users as columns.\n",
    "df_cleaned['bgg_user_rating'] = df_cleaned['bgg_user_rating'].astype(np.uint8)\n",
    "#user_game_matrix = df_cleaned.head(1000000).pivot(index='bgg_id', columns='bgg_user_name', values='bgg_user_rating')\n",
    "user_game_matrix = df_cleaned.set_index(['bgg_id', 'bgg_user_name'])['bgg_user_rating'].unstack('bgg_user_name',0)\n",
    "\n",
    "# Check the shape and preview the matrix.\n",
    "print(user_game_matrix.shape)"
   ]
  },
  {
   "cell_type": "code",
   "execution_count": 5,
   "metadata": {},
   "outputs": [
    {
     "ename": "",
     "evalue": "",
     "output_type": "error",
     "traceback": [
      "\u001b[1;31mThe Kernel crashed while executing code in the current cell or a previous cell. \n",
      "\u001b[1;31mPlease review the code in the cell(s) to identify a possible cause of the failure. \n",
      "\u001b[1;31mClick <a href='https://aka.ms/vscodeJupyterKernelCrash'>here</a> for more info. \n",
      "\u001b[1;31mView Jupyter <a href='command:jupyter.viewOutput'>log</a> for further details."
     ]
    }
   ],
   "source": [
    "import numpy as np\n",
    "import scipy\n",
    "sparse = scipy.sparse.csr_matrix(user_game_matrix.values)\n",
    "\n",
    "u4, s4, vT4= scipy.sparse.linalg.svds(sparse,return_singular_vectors='u', k=3000, solver='propack')\n",
    "#u4, s4, vT4= scipy.sparse.linalg.svds(sparse, k=200)\n",
    "np.savetxt(\"../data/features.csv\", u4, delimiter=\";\")"
   ]
  },
  {
   "cell_type": "code",
   "execution_count": null,
   "metadata": {},
   "outputs": [],
   "source": [
    "# Reconstruct the approximation from the SVD factors.\n",
    "reconstructed = u4 @ np.diag(s4) @ vT4\n",
    "\n",
    "# # Compute the Frobenius norm of the difference.\n",
    "# error = np.linalg.norm(sparse.toarray() - reconstructed, ord='fro')\n",
    "\n",
    "# # And the Frobenius norm of the original matrix.\n",
    "# norm_orig = np.linalg.norm(sparse.toarray(), ord='fro')\n",
    "\n",
    "# relative_error = error / norm_orig\n",
    "# print(\"Relative Frobenius error:\", relative_error)"
   ]
  },
  {
   "cell_type": "code",
   "execution_count": 6,
   "metadata": {},
   "outputs": [
    {
     "ename": "",
     "evalue": "",
     "output_type": "error",
     "traceback": [
      "\u001b[1;31mThe Kernel crashed while executing code in the current cell or a previous cell. \n",
      "\u001b[1;31mPlease review the code in the cell(s) to identify a possible cause of the failure. \n",
      "\u001b[1;31mClick <a href='https://aka.ms/vscodeJupyterKernelCrash'>here</a> for more info. \n",
      "\u001b[1;31mView Jupyter <a href='command:jupyter.viewOutput'>log</a> for further details."
     ]
    }
   ],
   "source": [
    "np.allclose(sparse.toarray(), reconstructed)"
   ]
  }
 ],
 "metadata": {
  "kernelspec": {
   "display_name": "Python 3",
   "language": "python",
   "name": "python3"
  },
  "language_info": {
   "codemirror_mode": {
    "name": "ipython",
    "version": 3
   },
   "file_extension": ".py",
   "mimetype": "text/x-python",
   "name": "python",
   "nbconvert_exporter": "python",
   "pygments_lexer": "ipython3",
   "version": "3.12.1"
  }
 },
 "nbformat": 4,
 "nbformat_minor": 2
}
