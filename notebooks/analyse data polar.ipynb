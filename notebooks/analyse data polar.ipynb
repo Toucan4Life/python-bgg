{
 "cells": [
  {
   "cell_type": "code",
   "execution_count": 1,
   "metadata": {},
   "outputs": [
    {
     "name": "stdout",
     "output_type": "stream",
     "text": [
      "done\n"
     ]
    }
   ],
   "source": [
    "import polars as pl\n",
    "\n",
    "\n",
    "# Read the cleaned file into a DataFrame\n",
    "df_cleaned = pl.read_csv('../data/bgg_rating_threshold.csv', separator=';')\n",
    "\n",
    "print(\"done\")"
   ]
  },
  {
   "cell_type": "code",
   "execution_count": 2,
   "metadata": {},
   "outputs": [
    {
     "name": "stdout",
     "output_type": "stream",
     "text": [
      "(6126, 407957)\n"
     ]
    }
   ],
   "source": [
    "import numpy as np\n",
    "# Create the matrix with games as rows and users as columns.\n",
    "df=df_cleaned.with_columns(\n",
    "    pl.col('bgg_user_rating').mul(10).cast(pl.Int8).alias(\"rating10\")\n",
    ")\n",
    "user_game_matrix = df.pivot('bgg_user_name', index='bgg_id', values=\"rating10\")\n",
    "\n",
    "# Check the shape and preview the matrix.\n",
    "print(user_game_matrix.shape)"
   ]
  },
  {
   "cell_type": "code",
   "execution_count": 3,
   "metadata": {},
   "outputs": [
    {
     "ename": "",
     "evalue": "",
     "output_type": "error",
     "traceback": [
      "\u001b[1;31mThe Kernel crashed while executing code in the current cell or a previous cell. \n",
      "\u001b[1;31mPlease review the code in the cell(s) to identify a possible cause of the failure. \n",
      "\u001b[1;31mClick <a href='https://aka.ms/vscodeJupyterKernelCrash'>here</a> for more info. \n",
      "\u001b[1;31mView Jupyter <a href='command:jupyter.viewOutput'>log</a> for further details."
     ]
    }
   ],
   "source": [
    "# import numpy as np\n",
    "# import scipy\n",
    "\n",
    "\n",
    "# u4, s4, vT4= scipy.linalg.svd(user_game_matrix)\n",
    "# #u4, s4, vT4= scipy.sparse.linalg.svds(sparse, k=200)\n",
    "# np.savetxt(\"../data/features.csv\", u4, delimiter=\";\")\n",
    "\n",
    "from sklearn.decomposition import NMF\n",
    "\n",
    "model = NMF(n_components=50, verbose=True)\n",
    "\n",
    "\n",
    "W = model.fit_transform(user_game_matrix)\n",
    "\n",
    "print(model.reconstruction_err_)\n",
    "print(model.n_iter_)"
   ]
  },
  {
   "cell_type": "code",
   "execution_count": null,
   "metadata": {},
   "outputs": [],
   "source": [
    "# Reconstruct the approximation from the SVD factors.\n",
    "reconstructed = u4 @ np.diag(s4) @ vT4\n",
    "\n",
    "# # Compute the Frobenius norm of the difference.\n",
    "# error = np.linalg.norm(sparse.toarray() - reconstructed, ord='fro')\n",
    "\n",
    "# # And the Frobenius norm of the original matrix.\n",
    "# norm_orig = np.linalg.norm(sparse.toarray(), ord='fro')\n",
    "\n",
    "# relative_error = error / norm_orig\n",
    "# print(\"Relative Frobenius error:\", relative_error)"
   ]
  },
  {
   "cell_type": "code",
   "execution_count": 6,
   "metadata": {},
   "outputs": [
    {
     "ename": "",
     "evalue": "",
     "output_type": "error",
     "traceback": [
      "\u001b[1;31mThe Kernel crashed while executing code in the current cell or a previous cell. \n",
      "\u001b[1;31mPlease review the code in the cell(s) to identify a possible cause of the failure. \n",
      "\u001b[1;31mClick <a href='https://aka.ms/vscodeJupyterKernelCrash'>here</a> for more info. \n",
      "\u001b[1;31mView Jupyter <a href='command:jupyter.viewOutput'>log</a> for further details."
     ]
    }
   ],
   "source": [
    "np.allclose(sparse.toarray(), reconstructed)"
   ]
  }
 ],
 "metadata": {
  "kernelspec": {
   "display_name": "Python 3",
   "language": "python",
   "name": "python3"
  },
  "language_info": {
   "codemirror_mode": {
    "name": "ipython",
    "version": 3
   },
   "file_extension": ".py",
   "mimetype": "text/x-python",
   "name": "python",
   "nbconvert_exporter": "python",
   "pygments_lexer": "ipython3",
   "version": "3.12.1"
  }
 },
 "nbformat": 4,
 "nbformat_minor": 2
}
