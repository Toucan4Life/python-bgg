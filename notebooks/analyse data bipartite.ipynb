{
 "cells": [
  {
   "cell_type": "code",
   "execution_count": 5,
   "metadata": {},
   "outputs": [
    {
     "name": "stdout",
     "output_type": "stream",
     "text": [
      "done\n"
     ]
    }
   ],
   "source": [
    "import pandas as pd\n",
    "import numpy as np\n",
    "\n",
    "# Read the cleaned file into a DataFrame\n",
    "df = pd.read_csv('../data/bgg_rating_threshold.csv', sep=';', engine='c')\n",
    "\n",
    "# Convert the 'bgg_user_rating' column to numeric\n",
    "df['bgg_user_rating'] = ((pd.to_numeric(df['bgg_user_rating'], errors='coerce'))*10).astype(np.uint8)\n",
    "\n",
    "print(\"done\")"
   ]
  },
  {
   "cell_type": "code",
   "execution_count": 6,
   "metadata": {},
   "outputs": [],
   "source": [
    "# from sklearn.preprocessing import MaxAbsScaler\n",
    "\n",
    "# scaler = MaxAbsScaler()\n",
    "# scaler.fit(sparse_matrix)\n",
    "# X_scaled = scaler.transform(sparse_matrix)"
   ]
  },
  {
   "cell_type": "code",
   "execution_count": 7,
   "metadata": {},
   "outputs": [
    {
     "name": "stdout",
     "output_type": "stream",
     "text": [
      "Sparse matrix created with shape: (15738, 411956)\n"
     ]
    }
   ],
   "source": [
    "from scipy.sparse import coo_matrix\n",
    "from sklearn.decomposition import TruncatedSVD\n",
    "data = list(df.itertuples(index=False, name=None))\n",
    "# Alternatively, you can use df['item'], df['user'], and df['review_score'] directly.\n",
    "\n",
    "# Create unique mappings for items and users\n",
    "unique_items = sorted(df['bgg_id'].unique())\n",
    "unique_users = sorted(df['bgg_user_name'].unique())\n",
    "\n",
    "item_to_index = {item: idx for idx, item in enumerate(unique_items)}\n",
    "user_to_index = {user: idx for idx, user in enumerate(unique_users)}\n",
    "\n",
    "# Prepare row indices, column indices, and data (review scores) using the DataFrame columns\n",
    "rows = df['bgg_id'].map(item_to_index)\n",
    "cols = df['bgg_user_name'].map(user_to_index)\n",
    "scores = df['bgg_user_rating']\n",
    "\n",
    "# Create a sparse matrix using the COO format:\n",
    "sparse_matrix = coo_matrix(\n",
    "    (scores, (rows, cols)),\n",
    "    shape=(len(unique_items), len(unique_users))\n",
    ")\n",
    "\n",
    "# Optionally convert to CSR format for more efficient arithmetic operations\n",
    "#sparse_matrix = sparse_matrix.tocsr()\n",
    "print (\"Sparse matrix created with shape:\", sparse_matrix.shape)\n"
   ]
  },
  {
   "cell_type": "code",
   "execution_count": 8,
   "metadata": {},
   "outputs": [],
   "source": [
    "sparse_matrix = sparse_matrix.tocsr()"
   ]
  },
  {
   "cell_type": "code",
   "execution_count": 9,
   "metadata": {},
   "outputs": [],
   "source": [
    "# Game–game weighted adjacency\n",
    "sparse_matrix = sparse_matrix.dot(sparse_matrix.T)\n",
    "from sklearn.preprocessing import normalize\n",
    "sparse_matrix = normalize(sparse_matrix, norm='l1', axis=1)"
   ]
  },
  {
   "cell_type": "code",
   "execution_count": 10,
   "metadata": {},
   "outputs": [],
   "source": [
    "from sklearn.neighbors import kneighbors_graph\n",
    "k = 150\n",
    "# mode='distance' yields distances; mode='connectivity' yields 0/1 links\n",
    "knn_dist = kneighbors_graph(sparse_matrix, n_neighbors=k, mode='distance', include_self=False,n_jobs=-1)\n",
    "# Convert distances to weights, e.g. w = exp(-d)\n",
    "knn_weights = knn_dist.copy()\n",
    "knn_weights.data = np.exp(-knn_weights.data)\n"
   ]
  },
  {
   "cell_type": "code",
   "execution_count": 11,
   "metadata": {},
   "outputs": [],
   "source": [
    "import igraph as ig\n",
    "# 5. Build an igraph Graph from the sparse matrix\n",
    "#    Note: igraph expects a dense adjacency or edge list with weights\n",
    "sources, targets = knn_weights.nonzero()\n",
    "weights = knn_weights.data\n",
    "g=ig.Graph.Weighted_Adjacency(knn_weights)"
   ]
  },
  {
   "cell_type": "code",
   "execution_count": 12,
   "metadata": {},
   "outputs": [
    {
     "name": "stdout",
     "output_type": "stream",
     "text": [
      "0.4253083555178602\n"
     ]
    }
   ],
   "source": [
    "import leidenalg as la\n",
    "partition = la.find_partition(\n",
    "    g,\n",
    "    la.ModularityVertexPartition,   # or another class, e.g., CPMVertexPartition\n",
    "    weights='weight',     # tunes cluster granularity\n",
    "    seed=42                         # for reproducibility\n",
    ")\n",
    "communities = partition.membership\n",
    "print(partition.modularity)"
   ]
  },
  {
   "cell_type": "code",
   "execution_count": 13,
   "metadata": {},
   "outputs": [
    {
     "data": {
      "text/plain": [
       "[<matplotlib.lines.Line2D at 0x7e405ae3e540>]"
      ]
     },
     "execution_count": 13,
     "metadata": {},
     "output_type": "execute_result"
    },
    {
     "data": {
      "image/png": "[encoded data removed]",
      "text/plain": [
       "<Figure size 640x480 with 1 Axes>"
      ]
     },
     "metadata": {},
     "output_type": "display_data"
    }
   ],
   "source": [
    "import matplotlib.pyplot as plt\n",
    "\n",
    "unique_clusters, counts = np.unique(communities, return_counts=True)\n",
    "cluster_counts = dict(zip(unique_clusters, counts))\n",
    "plt.loglog(cluster_counts.keys(), cluster_counts.values(), 'o')\n"
   ]
  },
  {
   "cell_type": "code",
   "execution_count": null,
   "metadata": {},
   "outputs": [],
   "source": [
    "# import umap\n",
    "# from sklearn.metrics import pairwise_distances\n",
    "# D = pairwise_distances(sparse_matrix, metric='cosine')  # shape (n_A, n_A)\n",
    "\n",
    "# umap_model = umap.UMAP(metric='precomputed')\n",
    "# coords = umap_model.fit_transform(D)"
   ]
  },
  {
   "cell_type": "code",
   "execution_count": null,
   "metadata": {},
   "outputs": [
    {
     "name": "stderr",
     "output_type": "stream",
     "text": [
      "/home/codespace/.local/lib/python3.12/site-packages/sklearn/utils/deprecation.py:151: FutureWarning: 'force_all_finite' was renamed to 'ensure_all_finite' in 1.6 and will be removed in 1.8.\n",
      "  warnings.warn(\n"
     ]
    }
   ],
   "source": [
    "import umap\n",
    "reducer = umap.UMAP()\n",
    "coords = reducer.fit_transform(sparse_matrix)"
   ]
  },
  {
   "cell_type": "code",
   "execution_count": null,
   "metadata": {},
   "outputs": [
    {
     "ename": "NameError",
     "evalue": "name 'coords' is not defined",
     "output_type": "error",
     "traceback": [
      "\u001b[31m---------------------------------------------------------------------------\u001b[39m",
      "\u001b[31mNameError\u001b[39m                                 Traceback (most recent call last)",
      "\u001b[36mCell\u001b[39m\u001b[36m \u001b[39m\u001b[32mIn[1]\u001b[39m\u001b[32m, line 7\u001b[39m\n\u001b[32m      4\u001b[39m \u001b[38;5;66;03m# Step 5: Plotting\u001b[39;00m\n\u001b[32m      5\u001b[39m plt.figure(figsize=(\u001b[32m12\u001b[39m, \u001b[32m8\u001b[39m))\n\u001b[32m----> \u001b[39m\u001b[32m7\u001b[39m plt.scatter(\u001b[43mcoords\u001b[49m[:, \u001b[32m0\u001b[39m], coords[:, \u001b[32m1\u001b[39m], s=\u001b[32m60\u001b[39m, alpha=\u001b[32m0.8\u001b[39m, edgecolor=\u001b[33m'\u001b[39m\u001b[33mk\u001b[39m\u001b[33m'\u001b[39m)\n\u001b[32m      9\u001b[39m \u001b[38;5;66;03m# Add legend without duplicates\u001b[39;00m\n\u001b[32m     10\u001b[39m handles, labels = plt.gca().get_legend_handles_labels()\n",
      "\u001b[31mNameError\u001b[39m: name 'coords' is not defined"
     ]
    },
    {
     "data": {
      "text/plain": [
       "<Figure size 1200x800 with 0 Axes>"
      ]
     },
     "metadata": {},
     "output_type": "display_data"
    }
   ],
   "source": [
    "from matplotlib.cm import get_cmap\n",
    "import matplotlib.pyplot as plt\n",
    "\n",
    "# Step 5: Plotting\n",
    "plt.figure(figsize=(12, 8))\n",
    "\n",
    "plt.scatter(coords[:, 0], coords[:, 1], s=60, alpha=0.8, edgecolor='k')\n",
    "\n",
    "# Add legend without duplicates\n",
    "handles, labels = plt.gca().get_legend_handles_labels()\n",
    "by_label = dict(zip(labels, handles))\n",
    "plt.legend(by_label.values(), by_label.keys(), loc='best', fontsize='small')\n",
    "\n",
    "plt.title(\"2D Visualization of Boardgames by Similarity and Community\")\n",
    "plt.axis('off')\n",
    "plt.tight_layout()\n",
    "plt.show()"
   ]
  }
 ],
 "metadata": {
  "kernelspec": {
   "display_name": "Python 3",
   "language": "python",
   "name": "python3"
  },
  "language_info": {
   "codemirror_mode": {
    "name": "ipython",
    "version": 3
   },
   "file_extension": ".py",
   "mimetype": "text/x-python",
   "name": "python",
   "nbconvert_exporter": "python",
   "pygments_lexer": "ipython3",
   "version": "3.12.1"
  }
 },
 "nbformat": 4,
 "nbformat_minor": 2
}
