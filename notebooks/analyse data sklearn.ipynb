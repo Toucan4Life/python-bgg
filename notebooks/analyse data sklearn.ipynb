{
 "cells": [
  {
   "cell_type": "code",
   "execution_count": 1,
   "metadata": {},
   "outputs": [
    {
     "name": "stdout",
     "output_type": "stream",
     "text": [
      "done\n"
     ]
    }
   ],
   "source": [
    "import pandas as pd\n",
    "\n",
    "\n",
    "# Read the cleaned file into a DataFrame\n",
    "df_cleaned = pd.read_csv('../data/bgg_rating_threshold.csv', sep=';', engine='c')\n",
    "\n",
    "# Convert the 'bgg_user_rating' column to numeric\n",
    "df_cleaned['bgg_user_rating'] = pd.to_numeric(df_cleaned['bgg_user_rating'], errors='coerce')\n",
    "\n",
    "print(\"done\")"
   ]
  },
  {
   "cell_type": "code",
   "execution_count": null,
   "metadata": {},
   "outputs": [
    {
     "name": "stderr",
     "output_type": "stream",
     "text": [
      "/tmp/ipykernel_24348/1491942108.py:5: PerformanceWarning: The following operation may generate 6489018225 cells in the resulting pandas object.\n",
      "  user_game_matrix = df_cleaned.set_index(['bgg_id', 'bgg_user_name'])['bgg_user_rating'].unstack('bgg_user_name',0)\n"
     ]
    },
    {
     "name": "stdout",
     "output_type": "stream",
     "text": [
      "(15751, 411975)\n"
     ]
    }
   ],
   "source": [
    "import numpy as np\n",
    "import scipy\n",
    "# Create the matrix with games as rows and users as columns.\n",
    "df_cleaned['bgg_user_rating'] = (df_cleaned['bgg_user_rating']*10).astype(np.uint8)\n",
    "#user_game_matrix = df_cleaned.head(1000000).pivot(index='bgg_id', columns='bgg_user_name', values='bgg_user_rating')\n",
    "user_game_matrix = df_cleaned.set_index(['bgg_id', 'bgg_user_name'])['bgg_user_rating'].unstack('bgg_user_name',0)\n",
    "sparse = scipy.sparse.csr_matrix(user_game_matrix.values)\n",
    "# Check the shape and preview the matrix.\n",
    "print(user_game_matrix.shape)"
   ]
  },
  {
   "cell_type": "code",
   "execution_count": null,
   "metadata": {},
   "outputs": [
    {
     "name": "stdout",
     "output_type": "stream",
     "text": [
      "violation: 1.0\n",
      "violation: 0.427093889198277\n",
      "violation: 0.17961674399362065\n",
      "violation: 0.14603857183056737\n",
      "violation: 0.12041737770242726\n",
      "violation: 0.09997198379369744\n",
      "violation: 0.08377027290138427\n",
      "violation: 0.07085235799376131\n",
      "violation: 0.0606353881071597\n",
      "violation: 0.052432465051327384\n",
      "violation: 0.045617529334151447\n",
      "violation: 0.039834948283098456\n",
      "violation: 0.034858467143574295\n",
      "violation: 0.030560020149855996\n",
      "violation: 0.026836580463178158\n",
      "violation: 0.02359109815400676\n",
      "violation: 0.02076321558842384\n",
      "violation: 0.018308363164916706\n",
      "violation: 0.016153936571178595\n",
      "violation: 0.014251836028635254\n",
      "violation: 0.012570453599363722\n",
      "violation: 0.011097228564029818\n",
      "violation: 0.009802923228250528\n",
      "violation: 0.008664292819749161\n",
      "violation: 0.007661321732771349\n",
      "violation: 0.006778264791536119\n",
      "violation: 0.005998401522144323\n",
      "violation: 0.005310108000040205\n",
      "violation: 0.004702224092185337\n",
      "violation: 0.0041655082489777595\n",
      "violation: 0.0036906434345398546\n",
      "violation: 0.003270477512523504\n",
      "violation: 0.0028986013896137373\n",
      "violation: 0.0025695869009035918\n",
      "violation: 0.0022780662912027325\n",
      "violation: 0.0020195274727139913\n",
      "violation: 0.001790544301300478\n",
      "violation: 0.0015876383322354865\n",
      "violation: 0.0014078446833917602\n",
      "violation: 0.0012485059475267199\n",
      "violation: 0.001107286686283004\n",
      "violation: 0.0009820974393595818\n",
      "violation: 0.0008711460393789271\n",
      "violation: 0.0007727854207765105\n",
      "violation: 0.0006855714250123622\n",
      "violation: 0.0006082425679161188\n",
      "violation: 0.0005396416431162106\n",
      "violation: 0.00047879410593211274\n",
      "violation: 0.00042481411045012623\n",
      "violation: 0.000376931148270057\n",
      "violation: 0.00033445645623487926\n",
      "violation: 0.00029678358495775287\n",
      "violation: 0.00026336034554667734\n",
      "violation: 0.00023370733410851323\n",
      "violation: 0.00020739883122553485\n",
      "violation: 0.00018405386387223088\n",
      "violation: 0.00016333919089741363\n",
      "violation: 0.00014495708684481815\n",
      "violation: 0.00012864602701255994\n",
      "violation: 0.00011417093182837659\n",
      "violation: 0.00010132562755066762\n",
      "violation: 8.992627438718319e-05\n",
      "violation: 7.981022477130675e-05\n",
      "violation: 7.083226091778272e-05\n",
      "violation: 6.286451837957557e-05\n",
      "violation: 5.579278315207945e-05\n",
      "violation: 4.951712686555513e-05\n",
      "violation: 4.3947062987280184e-05\n",
      "violation: 3.900357049386026e-05\n",
      "violation: 3.461574033404078e-05\n",
      "violation: 3.0721896188113784e-05\n",
      "violation: 2.7266305179064277e-05\n",
      "violation: 2.4199389691948662e-05\n",
      "violation: 2.147742057112456e-05\n",
      "violation: 1.9061703176097525e-05\n",
      "violation: 1.691768918315491e-05\n",
      "violation: 1.5014779178563324e-05\n",
      "violation: 1.3325943158437809e-05\n",
      "violation: 1.1827074069218116e-05\n",
      "violation: 1.0496750965063711e-05\n",
      "violation: 9.316111390842761e-06\n",
      "Converged at iteration 82\n",
      "334387.7288495305\n",
      "81\n"
     ]
    }
   ],
   "source": [
    "import numpy as np\n",
    "import scipy\n",
    "from sklearn.decomposition import NMF\n",
    "\n",
    "\n",
    "model = NMF(n_components=600, verbose=True)\n",
    "\n",
    "\n",
    "W = model.fit_transform(sparse)\n",
    "print(model.reconstruction_err_)\n",
    "print(model.n_iter_)\n",
    "#np.savetxt(\"../data/features.csv\", u4, delimiter=\";\")"
   ]
  },
  {
   "cell_type": "code",
   "execution_count": null,
   "metadata": {},
   "outputs": [
    {
     "name": "stdout",
     "output_type": "stream",
     "text": [
      "(15751, 600)\n"
     ]
    }
   ],
   "source": [
    "# print(W.shape)\n",
    "# np.savetxt(\"../data/features_100.csv\", W, delimiter=\";\")\n",
    "# df_cleaned['bgg_id'].to_csv(\"../data/bgg_id.csv\", sep=\";\", index=True)"
   ]
  },
  {
   "cell_type": "code",
   "execution_count": 9,
   "metadata": {},
   "outputs": [
    {
     "name": "stdout",
     "output_type": "stream",
     "text": [
      "Relative Frobenius error: 0.0001698427591223435\n"
     ]
    }
   ],
   "source": [
    "# Compute the Frobenius norm of the difference.\n",
    "error = model.n_iter_\n",
    "\n",
    "# And the Frobenius norm of the original matrix.\n",
    "norm_orig = scipy.sparse.linalg.norm(sparse, ord='fro')\n",
    "\n",
    "relative_error = error / norm_orig\n",
    "print(\"Relative Frobenius error:\", relative_error)"
   ]
  }
 ],
 "metadata": {
  "kernelspec": {
   "display_name": "Python 3",
   "language": "python",
   "name": "python3"
  },
  "language_info": {
   "codemirror_mode": {
    "name": "ipython",
    "version": 3
   },
   "file_extension": ".py",
   "mimetype": "text/x-python",
   "name": "python",
   "nbconvert_exporter": "python",
   "pygments_lexer": "ipython3",
   "version": "3.12.1"
  }
 },
 "nbformat": 4,
 "nbformat_minor": 2
}
